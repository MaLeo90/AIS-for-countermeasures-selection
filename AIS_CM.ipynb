{
 "cells": [
  {
   "cell_type": "code",
   "execution_count": 1,
   "metadata": {},
   "outputs": [],
   "source": [
    "#Global variables\n",
    "k=1\n",
    "#avg_fitness=10"
   ]
  },
  {
   "cell_type": "code",
   "execution_count": 2,
   "metadata": {},
   "outputs": [
    {
     "data": {
      "text/plain": [
       "'       \\n            return AntibodyIterator(self)\\n\\nclass AntibodyIterator:\\n    def __init__(self, antibody):\\n        self._antibody = antibody\\n        self._index = 0\\n\\n    def __next__(self):\\n        if self._index < (len(self._antibody._countermeasure)):\\n            result = self._antibody._countermeasure[self._index]\\n            self._index +=1\\n            return result\\n        raise StopIteration\\n'"
      ]
     },
     "execution_count": 2,
     "metadata": {},
     "output_type": "execute_result"
    }
   ],
   "source": [
    "# Classes definition\n",
    "\n",
    "class threat:\n",
    "    def __init__(self, id, imp, prob, asset_id):\n",
    "        super().__init__()\n",
    "        self.id=id\n",
    "        self.imp = imp\n",
    "        self.prob = prob\n",
    "        self.asset_id=asset_id\n",
    "\n",
    "class asset:\n",
    "    def __init__(self, id, criticality):\n",
    "        super().__init__()\n",
    "        self.id=id\n",
    "        self.criticality = criticality\n",
    "\n",
    "\n",
    "class countermeasure:\n",
    "    def __init__(self, id, eff, imp, cost, asset_id, benefit=1, maturity=0):\n",
    "        super().__init__()\n",
    "        self.id = id\n",
    "        self.eff = eff\n",
    "        self.imp = imp\n",
    "        self.cost = cost\n",
    "        self.asset_id = asset_id\n",
    "        self.benefit = benefit\n",
    "        self.maturity = maturity\n",
    "\n",
    "class antibody:\n",
    "    def __init__(self, id, fitness=10):\n",
    "        self._countermeasures = list()\n",
    "        self.id = id\n",
    "        self.fitness=fitness\n",
    "\n",
    "    def addCountermeasure(self, cm):\n",
    "#        self._countermeasure += cm\n",
    "        self._countermeasures.append(cm) \n",
    "\n",
    "#  def __iter__(self):\n",
    "        ''' Returns the Iterator object '''\n",
    "'''       \n",
    "            return AntibodyIterator(self)\n",
    "\n",
    "class AntibodyIterator:\n",
    "    def __init__(self, antibody):\n",
    "        self._antibody = antibody\n",
    "        self._index = 0\n",
    "\n",
    "    def __next__(self):\n",
    "        if self._index < (len(self._antibody._countermeasure)):\n",
    "            result = self._antibody._countermeasure[self._index]\n",
    "            self._index +=1\n",
    "            return result\n",
    "        raise StopIteration\n",
    "'''"
   ]
  },
  {
   "cell_type": "code",
   "execution_count": 3,
   "metadata": {},
   "outputs": [],
   "source": [
    "# Functions definition\n",
    "\n",
    "def calculate_benefit(cm):\n",
    "    cm.benefit=(9*cm.eff)**(1-(cm.imp+cm.cost)/2)+1\n",
    "    \n",
    "def calculate_combined_benefit(cm_list):\n",
    "    max_value=0\n",
    "    sum_value=0\n",
    "    for cm in cm_list:\n",
    "        sum_value+=cm.benefit\n",
    "        if(cm.benefit>max_value):\n",
    "            max_value=cm.benefit\n",
    "    return (max_value+min(sum_value,10))/2\n",
    "\n",
    "def calculate_risk(threat, asset, benefit=1):\n",
    "    return (threat.prob*threat.imp*asset.criticality)/benefit\n",
    "\n",
    "def calculate_fitness(risk, asset):\n",
    "    return risk-10*(1-asset.criticality)\n",
    "\n",
    "def calculate_benefit_prep(asset_dict,assets):\n",
    "    asset_benefit=dict()\n",
    "\n",
    "    for asset in assets:\n",
    "        asset_benefit[asset.id]=1\n",
    "\n",
    "    for asset_id in asset_dict.keys():\n",
    "        asset_benefit[asset_id] = 0\n",
    "        asset_benefit[asset_id]=calculate_combined_benefit(asset_dict[asset_id])\n",
    "\n",
    "    return asset_benefit\n",
    "\n",
    "\n",
    "def has_equal_element(antibody, assets):\n",
    "    asset_dict = dict() \n",
    "\n",
    "    for cm in antibody._countermeasures:\n",
    "        if cm.asset_id.id in asset_dict.keys():\n",
    "            asset_dict[cm.asset_id.id].append(cm)\n",
    "        else:\n",
    "            asset_dict[cm.asset_id.id] = []\n",
    "            asset_dict[cm.asset_id.id].append(cm)\n",
    "       \n",
    "    #for key in [key for key in asset_dict if len(asset_dict[key]) == 1]: del asset_dict[key]\n",
    "    return asset_dict\n",
    "\n",
    "def determine_affinity(threats, assets, antibodies):\n",
    "    risk_dict = dict()\n",
    "    for t in threats:\n",
    "        print(\"Threat:\", t.id)\n",
    "        for ass in assets:\n",
    "           if(t.asset_id == ass.id):\n",
    "                print(\"Asset:\",ass.id)\n",
    "                for ant in antibodies:\n",
    "                    print(\"Antibody:\",ant.id)\n",
    "                    for cm in ant._countermeasures:\n",
    "                        calculate_benefit(cm)\n",
    "                    asset_dict = has_equal_element(ant,assets)\n",
    "                    asset_benefit=calculate_benefit_prep(asset_dict,assets)\n",
    "                    print(asset_benefit)\n",
    "                    print(\"Risk:\",calculate_risk(t,ass,asset_benefit[ass.id])) \n",
    "                    if ant.id in risk_dict.keys():\n",
    "                        risk_dict[ant.id].append(calculate_risk(t,ass,asset_benefit[ass.id]))\n",
    "                    else:\n",
    "                        risk_dict[ant.id]= []\n",
    "                        risk_dict[ant.id].append(calculate_risk(t,ass,asset_benefit[ass.id]))\n",
    "    \n",
    "    print(risk_dict)\n",
    "    total_affinity=0\n",
    "    for ass in assets:\n",
    "        for ant.id in risk_dict.keys():\n",
    "            risk_dict[ant.id][ass.id]=abs(calculate_fitness(risk_dict[ant.id][ass.id],ass))\n",
    "            total_affinity+=risk_dict[ant.id][ass.id]\n",
    "    for ant in antibodies:\n",
    "        ant.fitness=sum(risk_dict[ant.id])\n",
    "    print(\"total affinity:\", total_affinity)\n",
    "    print(risk_dict)\n",
    "    avg_affinitity=total_affinity/len(risk_dict)\n",
    "    print(\"Avg affinity:\",avg_affinitity)\n",
    "\n",
    "def myfunc(e):\n",
    "    return e.fitness\n",
    "\n",
    "def clone_antibodies(antibodies):\n",
    "    antibodies.sort(key=myfunc)\n",
    "    clones=antibodies[0:k]"
   ]
  },
  {
   "cell_type": "code",
   "execution_count": 4,
   "metadata": {},
   "outputs": [
    {
     "name": "stdout",
     "output_type": "stream",
     "text": [
      "1\n",
      "cm 3\n",
      "cm 4\n",
      "___\n",
      "0\n",
      "cm 1\n",
      "cm 2\n",
      "___\n",
      "Threat: 0\n",
      "Asset: 0\n",
      "Antibody: 1\n",
      "{0: 3.32379000772445, 1: 4.089650715860676}\n",
      "Risk: 2.137920862474987\n",
      "Antibody: 0\n",
      "{0: 4.626923409730682, 1: 3.4310820874457466}\n",
      "Risk: 1.5357937382442248\n",
      "Threat: 1\n",
      "Asset: 1\n",
      "Antibody: 1\n",
      "{0: 3.32379000772445, 1: 4.089650715860676}\n",
      "Risk: 0.8986097481986521\n",
      "Antibody: 0\n",
      "{0: 4.626923409730682, 1: 3.4310820874457466}\n",
      "Risk: 1.0710906665412476\n",
      "{1: [2.137920862474987, 0.8986097481986521], 0: [1.5357937382442248, 1.0710906665412476]}\n",
      "total affinity: 4.704014185979312\n",
      "{1: [0.6379208624749866, 2.101390251801348], 0: [0.035793738244224604, 1.9289093334587528]}\n",
      "Avg affinity: 2.352007092989656\n"
     ]
    }
   ],
   "source": [
    "# Main program\n",
    "\n",
    "a1 = asset(0,0.85)\n",
    "a2 = asset(1,0.7)\n",
    "t1= threat(0,8.8,0.95,0)\n",
    "t2= threat(1,7.5,0.7,1)\n",
    "threats = [t1,t2]\n",
    "assets = [a1,a2]\n",
    "\n",
    "\n",
    "cm1 = countermeasure(1,0.7,0.4,0.2,a1)\n",
    "cm2 = countermeasure(2,0.8,0.7,0.4,a2)\n",
    "cm3 = countermeasure(3,0.6,0.5,0.5,a1)\n",
    "cm4 = countermeasure(4,0.5,0.3,0.2,a2)\n",
    "cm5 = countermeasure(5,0.3,0.1,0.2,a1)\n",
    "cm6 = countermeasure(6,0.9,0.2,0.2,a2)\n",
    "#print(cm1.cost)\n",
    "#print(calculate_combined_benefit([cm1.benefit,cm2.benefit,cm3.benefit]))\n",
    "ant1 = antibody(0)\n",
    "\n",
    "ant1.addCountermeasure(cm1)\n",
    "ant1.addCountermeasure(cm2)\n",
    "\n",
    "ant2 = antibody(1)\n",
    "ant2.addCountermeasure(cm3)\n",
    "ant2.addCountermeasure(cm4)\n",
    "ant3 = antibody(2)\n",
    "ant3.addCountermeasure(cm5)\n",
    "ant3.addCountermeasure(cm6)\n",
    "\n",
    "antibodies = [ant2,ant1]\n",
    "for ant in antibodies:\n",
    "    print(ant.id)\n",
    "    for cm in ant._countermeasures:\n",
    "        print(\"cm\",cm.id)\n",
    "    print(\"___\")\n",
    "\n",
    "determine_affinity(threats, assets, antibodies)\n",
    "clone_antibodies(antibodies)\n",
    "#print(calculate_risk(t1,a1))\n",
    "#print(calculate_risk(t1,a1,cm1.benefit))\n",
    "#print(calculate_fitness(calculate_risk(t1,a1), a1))"
   ]
  },
  {
   "cell_type": "code",
   "execution_count": 5,
   "metadata": {},
   "outputs": [
    {
     "name": "stdout",
     "output_type": "stream",
     "text": [
      "[<__main__.antibody object at 0x0000018962129B08>, <__main__.antibody object at 0x0000018962129E48>]\n",
      "[<__main__.countermeasure object at 0x00000189621293C8>, <__main__.countermeasure object at 0x0000018962129AC8>]\n"
     ]
    }
   ],
   "source": [
    "import random\n",
    "print(antibodies)\n",
    "clones=antibodies[0:k]\n",
    "clone=clones[0]\n",
    "print(clone._countermeasures)"
   ]
  },
  {
   "cell_type": "code",
   "execution_count": 23,
   "metadata": {},
   "outputs": [
    {
     "ename": "AttributeError",
     "evalue": "'set' object has no attribute 'id'",
     "output_type": "error",
     "traceback": [
      "\u001b[1;31m---------------------------------------------------------------------------\u001b[0m",
      "\u001b[1;31mAttributeError\u001b[0m                            Traceback (most recent call last)",
      "\u001b[1;32m<ipython-input-23-65d2c19706e1>\u001b[0m in \u001b[0;36m<module>\u001b[1;34m\u001b[0m\n\u001b[0;32m      9\u001b[0m \u001b[1;32mfor\u001b[0m \u001b[0mcm\u001b[0m \u001b[1;32min\u001b[0m \u001b[0mcm_tot\u001b[0m\u001b[1;33m:\u001b[0m\u001b[1;33m\u001b[0m\u001b[1;33m\u001b[0m\u001b[0m\n\u001b[0;32m     10\u001b[0m     \u001b[0mb\u001b[0m\u001b[1;33m.\u001b[0m\u001b[0madd\u001b[0m\u001b[1;33m(\u001b[0m\u001b[0mcm\u001b[0m\u001b[1;33m)\u001b[0m\u001b[1;33m\u001b[0m\u001b[1;33m\u001b[0m\u001b[0m\n\u001b[1;32m---> 11\u001b[1;33m \u001b[0mprint\u001b[0m\u001b[1;33m(\u001b[0m\u001b[0ma\u001b[0m\u001b[1;33m.\u001b[0m\u001b[0mid\u001b[0m\u001b[1;33m)\u001b[0m\u001b[1;33m\u001b[0m\u001b[1;33m\u001b[0m\u001b[0m\n\u001b[0m",
      "\u001b[1;31mAttributeError\u001b[0m: 'set' object has no attribute 'id'"
     ]
    }
   ],
   "source": [
    "a = set()\n",
    "b = set()\n",
    "cm_a1 = [cm1, cm3, cm5]\n",
    "cm_a2 = [cm2, cm4, cm6]\n",
    "cm_tot = cm_a1 + cm_a2\n",
    "\n",
    "for cm in clone._countermeasures:\n",
    "    a.add(cm)\n",
    "for cm in cm_tot:\n",
    "    b.add(cm)\n",
    "print(a.id)"
   ]
  },
  {
   "cell_type": "code",
   "execution_count": 10,
   "metadata": {},
   "outputs": [
    {
     "ename": "TypeError",
     "evalue": "unsupported operand type(s) for -: 'set' and 'int'",
     "output_type": "error",
     "traceback": [
      "\u001b[1;31m---------------------------------------------------------------------------\u001b[0m",
      "\u001b[1;31mTypeError\u001b[0m                                 Traceback (most recent call last)",
      "\u001b[1;32m<ipython-input-10-adab9979379f>\u001b[0m in \u001b[0;36m<module>\u001b[1;34m\u001b[0m\n\u001b[0;32m      1\u001b[0m \u001b[0ma\u001b[0m \u001b[1;33m=\u001b[0m \u001b[1;33m{\u001b[0m\u001b[1;36m0\u001b[0m\u001b[1;33m,\u001b[0m\u001b[1;36m1\u001b[0m\u001b[1;33m,\u001b[0m\u001b[1;36m2\u001b[0m\u001b[1;33m}\u001b[0m\u001b[1;33m\u001b[0m\u001b[1;33m\u001b[0m\u001b[0m\n\u001b[0;32m      2\u001b[0m \u001b[0mb\u001b[0m \u001b[1;33m=\u001b[0m \u001b[1;36m2\u001b[0m\u001b[1;33m\u001b[0m\u001b[1;33m\u001b[0m\u001b[0m\n\u001b[1;32m----> 3\u001b[1;33m \u001b[0ma\u001b[0m \u001b[1;33m-\u001b[0m \u001b[0mb\u001b[0m\u001b[1;33m\u001b[0m\u001b[1;33m\u001b[0m\u001b[0m\n\u001b[0m",
      "\u001b[1;31mTypeError\u001b[0m: unsupported operand type(s) for -: 'set' and 'int'"
     ]
    }
   ],
   "source": [
    "a = {0,1,2}\n",
    "b = 2\n",
    "a - b"
   ]
  },
  {
   "cell_type": "code",
   "execution_count": 27,
   "metadata": {},
   "outputs": [
    {
     "name": "stdout",
     "output_type": "stream",
     "text": [
      "[<__main__.antibody object at 0x0000018962129B08>, <__main__.antibody object at 0x0000018962129E48>]\n"
     ]
    },
    {
     "data": {
      "text/plain": [
       "[<__main__.antibody at 0x18962129b08>]"
      ]
     },
     "execution_count": 27,
     "metadata": {},
     "output_type": "execute_result"
    }
   ],
   "source": [
    "print(antibodies)\n",
    "antibodies[0:len(antibodies)-k]"
   ]
  },
  {
   "cell_type": "code",
   "execution_count": null,
   "metadata": {},
   "outputs": [],
   "source": []
  }
 ],
 "metadata": {
  "kernelspec": {
   "display_name": "Python 3",
   "language": "python",
   "name": "python3"
  },
  "language_info": {
   "codemirror_mode": {
    "name": "ipython",
    "version": 3
   },
   "file_extension": ".py",
   "mimetype": "text/x-python",
   "name": "python",
   "nbconvert_exporter": "python",
   "pygments_lexer": "ipython3",
   "version": "3.7.6"
  }
 },
 "nbformat": 4,
 "nbformat_minor": 4
}
